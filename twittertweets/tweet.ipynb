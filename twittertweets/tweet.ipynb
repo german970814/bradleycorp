{
 "cells": [
  {
   "cell_type": "code",
   "execution_count": 2,
   "metadata": {
    "collapsed": true
   },
   "outputs": [],
   "source": [
    "from twython import Twython, TwythonError\n",
    "import json\n",
    "import urllib\n",
    "import re"
   ]
  },
  {
   "cell_type": "code",
   "execution_count": 20,
   "metadata": {
    "collapsed": false
   },
   "outputs": [
    {
     "name": "stdout",
     "output_type": "stream",
     "text": [
      "Follow link: https://api.twitter.com/oauth/authenticate?oauth_token=09f3aAAAAAAAyB3qAAABWIEpvF8\n",
      "Paste the full redirect URL here.https://127.0.0.1/callback?oauth_token=09f3aAAAAAAAyB3qAAABWIEpvF8&oauth_verifier=XKpSCasLTzMy2Fg6vcgtuONXNEYmIJST\n",
      "Final user tokens saved...\n"
     ]
    }
   ],
   "source": [
    "APP_KEY = 'ztQo6Ln4mdoH4vsz68orpMGHD'\n",
    "APP_SECRET = 'uNrQ0tDqkPDwic7Pb8P5euVxD85uw9lTdQ1krfNHBMwp26HHOV'\n",
    "callback_uri = 'https://127.0.0.1/callback'    #call-back for localhost\n",
    "\n",
    "#Create authorised twython object\n",
    "\n",
    "twitter = Twython(APP_KEY, APP_SECRET)\n",
    "auth = twitter.get_authentication_tokens(callback_url=callback_uri)\n",
    "\n",
    "OAUTH_TOKEN = auth['oauth_token']\n",
    "OAUTH_TOKEN_SECRET = auth['oauth_token_secret']\n",
    "\n",
    "print 'Follow link: ' + str(auth['auth_url'])\n",
    "\n",
    "redirect_url = raw_input('Paste the full redirect URL here.')\n",
    "\n",
    "oauth_verifier = re.search('(?<=oauth_verifier=).*',redirect_url).group(0)\n",
    "\n",
    "twitter = Twython(APP_KEY, APP_SECRET, OAUTH_TOKEN, OAUTH_TOKEN_SECRET)\n",
    "\n",
    "final_step = twitter.get_authorized_tokens(oauth_verifier)\n",
    "\n",
    "F_OAUTH_TOKEN = final_step['oauth_token']\n",
    "F_OAUTH_TOKEN_SECRET = final_step['oauth_token_secret']\n",
    "\n",
    "print 'Final user tokens saved...'\n",
    "\n",
    "twitter = Twython(APP_KEY, APP_SECRET, F_OAUTH_TOKEN, F_OAUTH_TOKEN_SECRET)\n",
    "\n",
    "\n"
   ]
  },
  {
   "cell_type": "code",
   "execution_count": 21,
   "metadata": {
    "collapsed": false
   },
   "outputs": [
    {
     "name": "stdout",
     "output_type": "stream",
     "text": [
      "Twitter API returned a 403 (Forbidden), The client application making this request does not have access to this API\n"
     ]
    }
   ],
   "source": [
    "try:\n",
    "    twitter.request('https://ads-api.twitter.com/1/accounts')\n",
    "except TwythonError as e:\n",
    "    print e"
   ]
  },
  {
   "cell_type": "code",
   "execution_count": 22,
   "metadata": {
    "collapsed": false
   },
   "outputs": [
    {
     "name": "stdout",
     "output_type": "stream",
     "text": [
      "Twitter API returned a 403 (Forbidden), The client application making this request does not have access to this API\n"
     ]
    }
   ],
   "source": [
    "\n",
    "\n",
    "try:\n",
    "    twitter.request('https://ads-api.twitter.com/1/accounts/:account_id/authenticated_user_access')\n",
    "except TwythonError as e:\n",
    "    print e"
   ]
  },
  {
   "cell_type": "code",
   "execution_count": null,
   "metadata": {
    "collapsed": false
   },
   "outputs": [],
   "source": [
    "\n",
    "#get account_id\n",
    "try:\n",
    "    print 'Trying to get accounts...'\n",
    "    accounts = twitter.request('https://ads-api.twitter.com/1/accounts')\n",
    "except TwythonError as e:\n",
    "    print e\n",
    "    \n",
    "print accounts\n",
    "\n",
    "account_id = raw_input('Pick Account_Id from JSON: ')\n",
    "\n",
    "\n",
    "#find live campaigns\n",
    "\n",
    "def get_campaigns(account_id, with_deleted):\n",
    "    \n",
    "    try:  \n",
    "        print 'Getting live campaigns...'\n",
    "        \n",
    "        params = {\n",
    "            'account_id': account_id,\n",
    "            'with_deleted': with_deleted,\n",
    "        }\n",
    "        \n",
    "        live_campaigns = twitter.request('https://ads-api.twitter.com/1/accounts/:account_id/campaigns',method = 'GET', params=params)\n",
    "\n",
    "    except TwythonError as e:\n",
    "        print e\n",
    "        \n",
    "    \n",
    "    return live_campaigns\n",
    "\n",
    "print get_campaigns(account_id,false)\n",
    "\n",
    "\n",
    "\n",
    "#Upload video, get media_id\n",
    "\n",
    "video = open('/path/to/file/video.mp4', 'rb')\n",
    "response = twitter.upload_video(media=video, media_type='video/mp4')\n",
    "media_id=[response['media_id']]\n",
    "\n"
   ]
  },
  {
   "cell_type": "code",
   "execution_count": 24,
   "metadata": {
    "collapsed": false
   },
   "outputs": [
    {
     "ename": "Forbidden",
     "evalue": "<Forbidden object at 0x106924af0 code=403 details=[{u'message': u'The client application making this request does not have access to this API', u'code': u'UNAUTHORIZED_CLIENT_APPLICATION'}]>",
     "output_type": "error",
     "traceback": [
      "\u001b[0;31m---------------------------------------------------------------------------\u001b[0m",
      "\u001b[0;31mForbidden\u001b[0m                                 Traceback (most recent call last)",
      "\u001b[0;32m<ipython-input-24-803d28eb2a5d>\u001b[0m in \u001b[0;36m<module>\u001b[0;34m()\u001b[0m\n\u001b[1;32m     14\u001b[0m \u001b[0;34m\u001b[0m\u001b[0m\n\u001b[1;32m     15\u001b[0m \u001b[0;31m# load the advertiser account instance\u001b[0m\u001b[0;34m\u001b[0m\u001b[0;34m\u001b[0m\u001b[0m\n\u001b[0;32m---> 16\u001b[0;31m \u001b[0maccount\u001b[0m \u001b[0;34m=\u001b[0m \u001b[0mclient\u001b[0m\u001b[0;34m.\u001b[0m\u001b[0maccounts\u001b[0m\u001b[0;34m(\u001b[0m\u001b[0mACCOUNT_ID\u001b[0m\u001b[0;34m)\u001b[0m\u001b[0;34m\u001b[0m\u001b[0m\n\u001b[0m\u001b[1;32m     17\u001b[0m \u001b[0;34m\u001b[0m\u001b[0m\n\u001b[1;32m     18\u001b[0m \u001b[0;34m\u001b[0m\u001b[0m\n",
      "\u001b[0;32m/Users/mattwills/anaconda/lib/python2.7/site-packages/twitter_ads/client.pyc\u001b[0m in \u001b[0;36maccounts\u001b[0;34m(self, id)\u001b[0m\n\u001b[1;32m     87\u001b[0m         \u001b[0mthe\u001b[0m \u001b[0mcurrent\u001b[0m \u001b[0maccess\u001b[0m \u001b[0mtoken\u001b[0m\u001b[0;34m.\u001b[0m\u001b[0;34m\u001b[0m\u001b[0m\n\u001b[1;32m     88\u001b[0m         \"\"\"\n\u001b[0;32m---> 89\u001b[0;31m         \u001b[0;32mreturn\u001b[0m \u001b[0mAccount\u001b[0m\u001b[0;34m.\u001b[0m\u001b[0mload\u001b[0m\u001b[0;34m(\u001b[0m\u001b[0mself\u001b[0m\u001b[0;34m,\u001b[0m \u001b[0mid\u001b[0m\u001b[0;34m)\u001b[0m \u001b[0;32mif\u001b[0m \u001b[0mid\u001b[0m \u001b[0;32melse\u001b[0m \u001b[0mAccount\u001b[0m\u001b[0;34m.\u001b[0m\u001b[0mall\u001b[0m\u001b[0;34m(\u001b[0m\u001b[0mself\u001b[0m\u001b[0;34m)\u001b[0m\u001b[0;34m\u001b[0m\u001b[0m\n\u001b[0m",
      "\u001b[0;32m/Users/mattwills/anaconda/lib/python2.7/site-packages/twitter_ads/account.pyc\u001b[0m in \u001b[0;36mload\u001b[0;34m(klass, client, id, **kwargs)\u001b[0m\n\u001b[1;32m     44\u001b[0m         \u001b[0;34m\"\"\"Returns an object instance for a given resource.\"\"\"\u001b[0m\u001b[0;34m\u001b[0m\u001b[0m\n\u001b[1;32m     45\u001b[0m         \u001b[0mresource\u001b[0m \u001b[0;34m=\u001b[0m \u001b[0mklass\u001b[0m\u001b[0;34m.\u001b[0m\u001b[0mRESOURCE\u001b[0m\u001b[0;34m.\u001b[0m\u001b[0mformat\u001b[0m\u001b[0;34m(\u001b[0m\u001b[0mid\u001b[0m\u001b[0;34m=\u001b[0m\u001b[0mid\u001b[0m\u001b[0;34m)\u001b[0m\u001b[0;34m\u001b[0m\u001b[0m\n\u001b[0;32m---> 46\u001b[0;31m         \u001b[0mresponse\u001b[0m \u001b[0;34m=\u001b[0m \u001b[0mRequest\u001b[0m\u001b[0;34m(\u001b[0m\u001b[0mclient\u001b[0m\u001b[0;34m,\u001b[0m \u001b[0;34m'get'\u001b[0m\u001b[0;34m,\u001b[0m \u001b[0mresource\u001b[0m\u001b[0;34m,\u001b[0m \u001b[0mparams\u001b[0m\u001b[0;34m=\u001b[0m\u001b[0mkwargs\u001b[0m\u001b[0;34m)\u001b[0m\u001b[0;34m.\u001b[0m\u001b[0mperform\u001b[0m\u001b[0;34m(\u001b[0m\u001b[0;34m)\u001b[0m\u001b[0;34m\u001b[0m\u001b[0m\n\u001b[0m\u001b[1;32m     47\u001b[0m         \u001b[0;32mreturn\u001b[0m \u001b[0mklass\u001b[0m\u001b[0;34m(\u001b[0m\u001b[0mclient\u001b[0m\u001b[0;34m)\u001b[0m\u001b[0;34m.\u001b[0m\u001b[0mfrom_response\u001b[0m\u001b[0;34m(\u001b[0m\u001b[0mresponse\u001b[0m\u001b[0;34m.\u001b[0m\u001b[0mbody\u001b[0m\u001b[0;34m[\u001b[0m\u001b[0;34m'data'\u001b[0m\u001b[0;34m]\u001b[0m\u001b[0;34m)\u001b[0m\u001b[0;34m\u001b[0m\u001b[0m\n\u001b[1;32m     48\u001b[0m \u001b[0;34m\u001b[0m\u001b[0m\n",
      "\u001b[0;32m/Users/mattwills/anaconda/lib/python2.7/site-packages/twitter_ads/http.pyc\u001b[0m in \u001b[0;36mperform\u001b[0;34m(self)\u001b[0m\n\u001b[1;32m     73\u001b[0m         \u001b[0mresponse\u001b[0m \u001b[0;34m=\u001b[0m \u001b[0mself\u001b[0m\u001b[0;34m.\u001b[0m\u001b[0m__oauth_request\u001b[0m\u001b[0;34m(\u001b[0m\u001b[0;34m)\u001b[0m\u001b[0;34m\u001b[0m\u001b[0m\n\u001b[1;32m     74\u001b[0m         \u001b[0;32mif\u001b[0m \u001b[0mresponse\u001b[0m\u001b[0;34m.\u001b[0m\u001b[0mcode\u001b[0m \u001b[0;34m>\u001b[0m \u001b[0;36m399\u001b[0m\u001b[0;34m:\u001b[0m\u001b[0;34m\u001b[0m\u001b[0m\n\u001b[0;32m---> 75\u001b[0;31m             \u001b[0;32mraise\u001b[0m \u001b[0mError\u001b[0m\u001b[0;34m.\u001b[0m\u001b[0mfrom_response\u001b[0m\u001b[0;34m(\u001b[0m\u001b[0mresponse\u001b[0m\u001b[0;34m)\u001b[0m\u001b[0;34m\u001b[0m\u001b[0m\n\u001b[0m\u001b[1;32m     76\u001b[0m         \u001b[0;32mreturn\u001b[0m \u001b[0mresponse\u001b[0m\u001b[0;34m\u001b[0m\u001b[0m\n\u001b[1;32m     77\u001b[0m \u001b[0;34m\u001b[0m\u001b[0m\n",
      "\u001b[0;31mForbidden\u001b[0m: <Forbidden object at 0x106924af0 code=403 details=[{u'message': u'The client application making this request does not have access to this API', u'code': u'UNAUTHORIZED_CLIENT_APPLICATION'}]>"
     ]
    }
   ],
   "source": [
    "from twitter_ads.client import Client\n",
    "from twitter_ads.campaign import Campaign\n",
    "\n",
    "\n",
    "CONSUMER_KEY = 'ztQo6Ln4mdoH4vsz68orpMGHD'\n",
    "CONSUMER_SECRET = 'uNrQ0tDqkPDwic7Pb8P5euVxD85uw9lTdQ1krfNHBMwp26HHOV'\n",
    "ACCESS_TOKEN = '98639399-rtbnotGc9tPEAXMRjocDw1peZXia8I3kzD9PA3KtK'\n",
    "ACCESS_TOKEN_SECRET = '5sGjNJGBbUSsdzV6Hv2w3Soy2Eos8cDwCUOxuUeq3Ylaj'\n",
    "\n",
    "ACCOUNT_ID = '18ce54fanqc'\n",
    "\n",
    "# initialize the client\n",
    "client = Client(CONSUMER_KEY, CONSUMER_SECRET, ACCESS_TOKEN, ACCESS_TOKEN_SECRET)\n",
    "\n",
    "# load the advertiser account instance\n",
    "account = client.accounts(ACCOUNT_ID)\n",
    "\n",
    "\n",
    "    \n"
   ]
  },
  {
   "cell_type": "code",
   "execution_count": 1,
   "metadata": {
    "collapsed": false
   },
   "outputs": [
    {
     "ename": "NameError",
     "evalue": "name 'Twython' is not defined",
     "output_type": "error",
     "traceback": [
      "\u001b[0;31m---------------------------------------------------------------------------\u001b[0m",
      "\u001b[0;31mNameError\u001b[0m                                 Traceback (most recent call last)",
      "\u001b[0;32m<ipython-input-1-ce78394151f7>\u001b[0m in \u001b[0;36m<module>\u001b[0;34m()\u001b[0m\n\u001b[1;32m      5\u001b[0m \u001b[0;31m#Create authorised twython object\u001b[0m\u001b[0;34m\u001b[0m\u001b[0;34m\u001b[0m\u001b[0m\n\u001b[1;32m      6\u001b[0m \u001b[0;34m\u001b[0m\u001b[0m\n\u001b[0;32m----> 7\u001b[0;31m \u001b[0mtwitter\u001b[0m \u001b[0;34m=\u001b[0m \u001b[0mTwython\u001b[0m\u001b[0;34m(\u001b[0m\u001b[0mAPP_KEY\u001b[0m\u001b[0;34m,\u001b[0m \u001b[0mAPP_SECRET\u001b[0m\u001b[0;34m)\u001b[0m\u001b[0;34m\u001b[0m\u001b[0m\n\u001b[0m\u001b[1;32m      8\u001b[0m \u001b[0mauth\u001b[0m \u001b[0;34m=\u001b[0m \u001b[0mtwitter\u001b[0m\u001b[0;34m.\u001b[0m\u001b[0mget_authentication_tokens\u001b[0m\u001b[0;34m(\u001b[0m\u001b[0mcallback_url\u001b[0m\u001b[0;34m=\u001b[0m\u001b[0mcallback_uri\u001b[0m\u001b[0;34m)\u001b[0m\u001b[0;34m\u001b[0m\u001b[0m\n\u001b[1;32m      9\u001b[0m \u001b[0;34m\u001b[0m\u001b[0m\n",
      "\u001b[0;31mNameError\u001b[0m: name 'Twython' is not defined"
     ]
    }
   ],
   "source": [
    "APP_KEY = 'ztQo6Ln4mdoH4vsz68orpMGHD'\n",
    "APP_SECRET = 'uNrQ0tDqkPDwic7Pb8P5euVxD85uw9lTdQ1krfNHBMwp26HHOV'\n",
    "callback_uri = 'https://127.0.0.1/callback'    #call-back for localhost\n",
    "\n",
    "#Create authorised twython object\n",
    "\n",
    "twitter = Twython(APP_KEY, APP_SECRET)\n",
    "auth = twitter.get_authentication_tokens(callback_url=callback_uri)\n",
    "\n",
    "OAUTH_TOKEN = auth['oauth_token']\n",
    "OAUTH_TOKEN_SECRET = auth['oauth_token_secret']\n",
    "\n",
    "print 'Follow link: ' + str(auth['auth_url'])\n",
    "\n",
    "redirect_url = raw_input('Paste the full redirect URL here.')\n",
    "\n",
    "oauth_verifier = re.search('(?<=oauth_verifier=).*',redirect_url).group(0)\n",
    "\n",
    "twitter = Twython(APP_KEY, APP_SECRET, OAUTH_TOKEN, OAUTH_TOKEN_SECRET)\n",
    "\n",
    "final_step = twitter.get_authorized_tokens(oauth_verifier)\n",
    "\n",
    "F_OAUTH_TOKEN = final_step['oauth_token']\n",
    "F_OAUTH_TOKEN_SECRET = final_step['oauth_token_secret']\n",
    "\n",
    "print 'Final user tokens saved...'\n",
    "\n",
    "twitter = Twython(APP_KEY, APP_SECRET, F_OAUTH_TOKEN, F_OAUTH_TOKEN_SECRET)"
   ]
  },
  {
   "cell_type": "code",
   "execution_count": 11,
   "metadata": {
    "collapsed": true
   },
   "outputs": [],
   "source": [
    "class Twitter(object): \n",
    "    def __init__(self, app_key, app_secret):\n",
    "        \n",
    "        self.APP_KEY = app_key\n",
    "        self.APP_SECRET = app_secret\n",
    "        self.callback_uri = 'https://127.0.0.1/callback'    #call-back for localhost\n",
    "        \n",
    "        #Create authorised twython object\n",
    "\n",
    "        twitter = Twython(self.APP_KEY, self.APP_SECRET)\n",
    "        auth = twitter.get_authentication_tokens(callback_url=self.callback_uri)\n",
    "        \n",
    "        self.OAUTH_TOKEN = auth['oauth_token']\n",
    "        self.OAUTH_TOKEN_SECRET = auth['oauth_token_secret']\n",
    "\n",
    "        print 'Follow link: ' + str(auth['auth_url'])\n",
    "\n",
    "        self.redirect_url = raw_input('Paste the full redirect URL here.')\n",
    "\n",
    "        self.oauth_verifier = re.search('(?<=oauth_verifier=).*',self.redirect_url).group(0)\n",
    "\n",
    "        twitter = Twython(self.APP_KEY, self.APP_SECRET, self.OAUTH_TOKEN, self.OAUTH_TOKEN_SECRET)\n",
    "\n",
    "        final_step = twitter.get_authorized_tokens(self.oauth_verifier)\n",
    "\n",
    "        self.F_OAUTH_TOKEN = final_step['oauth_token']\n",
    "        self.F_OAUTH_TOKEN_SECRET = final_step['oauth_token_secret']\n",
    "\n",
    "        print 'Final user tokens saved...'\n",
    "        \n",
    "        self.api = Twython(self.APP_KEY, self.APP_SECRET, self.F_OAUTH_TOKEN, self.F_OAUTH_TOKEN_SECRET)\n",
    "        "
   ]
  },
  {
   "cell_type": "code",
   "execution_count": 12,
   "metadata": {
    "collapsed": false
   },
   "outputs": [
    {
     "name": "stdout",
     "output_type": "stream",
     "text": [
      "Follow link: https://api.twitter.com/oauth/authenticate?oauth_token=HDJUqQAAAAAAyB3qAAABWIOwfQs\n",
      "Paste the full redirect URL here.https://127.0.0.1/callback?oauth_token=HDJUqQAAAAAAyB3qAAABWIOwfQs&oauth_verifier=Mkkxkt6C7PJB3AiZuY4D4n4p2eQzy5Ol\n",
      "Final user tokens saved...\n"
     ]
    }
   ],
   "source": [
    "Tw = Twitter('ztQo6Ln4mdoH4vsz68orpMGHD','uNrQ0tDqkPDwic7Pb8P5euVxD85uw9lTdQ1krfNHBMwp26HHOV')\n"
   ]
  },
  {
   "cell_type": "code",
   "execution_count": 13,
   "metadata": {
    "collapsed": false
   },
   "outputs": [
    {
     "name": "stdout",
     "output_type": "stream",
     "text": [
      "https://127.0.0.1/callback?oauth_token=HDJUqQAAAAAAyB3qAAABWIOwfQs&oauth_verifier=Mkkxkt6C7PJB3AiZuY4D4n4p2eQzy5Ol\n"
     ]
    }
   ],
   "source": [
    "print Tw.redirect_url"
   ]
  },
  {
   "cell_type": "code",
   "execution_count": null,
   "metadata": {
    "collapsed": true
   },
   "outputs": [],
   "source": []
  }
 ],
 "metadata": {
  "kernelspec": {
   "display_name": "Python 2",
   "language": "python",
   "name": "python2"
  },
  "language_info": {
   "codemirror_mode": {
    "name": "ipython",
    "version": 2
   },
   "file_extension": ".py",
   "mimetype": "text/x-python",
   "name": "python",
   "nbconvert_exporter": "python",
   "pygments_lexer": "ipython2",
   "version": "2.7.11"
  }
 },
 "nbformat": 4,
 "nbformat_minor": 0
}
